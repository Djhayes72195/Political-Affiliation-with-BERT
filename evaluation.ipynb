{
 "cells": [
  {
   "cell_type": "code",
   "execution_count": 11,
   "metadata": {},
   "outputs": [],
   "source": [
    "import pandas as pd\n",
    "import numpy as np"
   ]
  },
  {
   "cell_type": "code",
   "execution_count": 21,
   "metadata": {},
   "outputs": [
    {
     "name": "stdout",
     "output_type": "stream",
     "text": [
      "          UserID Party  Predictions\n",
      "0     2927379996     0            0\n",
      "1     2927379996     0            0\n",
      "2     2927379996     0            0\n",
      "3     2927379996     0            0\n",
      "4     2927379996     0            0\n",
      "...          ...   ...          ...\n",
      "1325    20744708     0            1\n",
      "1326    20744708     0            0\n",
      "1327    20744708     0            0\n",
      "1328    20744708     0            0\n",
      "1329    20744708     0            1\n",
      "\n",
      "[1330 rows x 3 columns]\n"
     ]
    }
   ],
   "source": [
    "def get_chunk_wise_accuracy(BERT_results, output_file_name):\n",
    "    BERT_results = BERT_results.drop(['Text'], axis=1)\n",
    "    BERT_results.loc[BERT_results['Party'] == \"Democratic Party\", \"Party\"] = 0 \n",
    "    BERT_results.loc[BERT_results['Party'] == \"Republican Party\", \"Party\"] = 1\n",
    "    new_cols = [\"UserID\", \"Party\", \"Predictions\"]\n",
    "    BERT_results = BERT_results[new_cols]\n",
    "    pred_arr = BERT_results[\"Predictions\"].to_numpy()\n",
    "    truth_arr = BERT_results[\"Party\"].to_numpy()\n",
    "    accuracy = np.sum(pred_arr == truth_arr)/len(pred_arr)\n",
    "    BERT_results.to_csv(\"Data\\\\Data_for_Evaluation\\{}_accuracy_by_chunk={}.csv\".format(output_file_name, accuracy), index=False)\n",
    "    return BERT_results\n",
    "\n",
    "results = pd.read_csv('Data\\\\Data_for_evaluation\\\\testresults_good_split_RUN3.csv', index_col=0)\n",
    "print(get_chunk_wise_accuracy(results, \"yo\"))"
   ]
  },
  {
   "cell_type": "code",
   "execution_count": null,
   "metadata": {},
   "outputs": [],
   "source": []
  }
 ],
 "metadata": {
  "kernelspec": {
   "display_name": "Python 3",
   "language": "python",
   "name": "python3"
  },
  "language_info": {
   "codemirror_mode": {
    "name": "ipython",
    "version": 3
   },
   "file_extension": ".py",
   "mimetype": "text/x-python",
   "name": "python",
   "nbconvert_exporter": "python",
   "pygments_lexer": "ipython3",
   "version": "3.10.1"
  },
  "orig_nbformat": 4,
  "vscode": {
   "interpreter": {
    "hash": "19144ae99ecdd7de40b02483c8dd0c3f376ecc4a896bed5b8b3dc837c5c7c700"
   }
  }
 },
 "nbformat": 4,
 "nbformat_minor": 2
}
