{
 "cells": [
  {
   "cell_type": "code",
   "execution_count": 10,
   "metadata": {},
   "outputs": [],
   "source": [
    "import pandas as pd\n",
    "import numpy as np\n",
    "import joblib\n",
    "import warnings\n",
    "from transformers import BertModel\n",
    "warnings.simplefilter(action='ignore', category=FutureWarning)\n",
    "from classifytweets import evaluate\n",
    "from classifytweets import BertClassifier\n",
    "import classifytweets\n",
    "import importlib\n",
    "from pathlib import Path\n",
    "importlib.reload(classifytweets)\n",
    "import sys, os\n",
    "loaded_model_chunk = joblib.load(\"trained_model_1_29_23.joblib\")\n",
    "loaded_model_no_chunk = joblib.load(\"trained_model_no_chunk_2_13_23.joblib\")\n",
    "\n"
   ]
  },
  {
   "cell_type": "code",
   "execution_count": null,
   "metadata": {},
   "outputs": [],
   "source": [
    "# simple test on random draw of 20 users from testresults_1_29_23.  We should see an accuracy of around .7 to .9.\n",
    "# Note: This function can take 30 seconds to a minute to run.\n",
    "def test_model():\n",
    "    df_test = pd.read_csv(Path(\"Data/Raw_BERT_results/testresults_1_29_23.csv\"), index_col=0)\n",
    "    df_test = df_test.drop('Predictions', axis=1)\n",
    "    # df_test = df_test.sample(n=20)\n",
    "    user_ID_add_later = list(df_test['UserID'])\n",
    "    test_predictions = evaluate(loaded_model_no_chunk, df_test, user_ID_add_later)\n",
    "    test_predictions.loc[test_predictions[\"Predictions\"] == 1, \"Predictions\"] = \"Republican Party\"\n",
    "    test_predictions.loc[test_predictions[\"Predictions\"] == 0, \"Predictions\"] = \"Democratic Party\"\n",
    "    new_cols = [\"UserID\", \"Party\", \"Predictions\", \"Text\"]\n",
    "    test_predictions = test_predictions[new_cols]\n",
    "    return test_predictions\n",
    "\n",
    "test_model()\n"
   ]
  },
  {
   "cell_type": "code",
   "execution_count": 9,
   "metadata": {},
   "outputs": [
    {
     "name": "stdout",
     "output_type": "stream",
     "text": [
      "Test Accuracy:  1.000\n",
      "Prediction: Democrat\n"
     ]
    }
   ],
   "source": [
    "# Write your own Data\n",
    "\n",
    "def write_your_own(text: str):\n",
    "    df_test = pd.DataFrame({\"UserID\": [1], \"Party\": \"Democratic Party\", \"Text\": text})\n",
    "    prediction = evaluate(loaded_model_no_chunk, df_test, [1])\n",
    "    reverse_labels = {0:'Democrat', 1:'Republican'}\n",
    "    print(\"Prediction: {}\".format(reverse_labels[prediction[\"Predictions\"][0]]))\n",
    "\n",
    "write_your_own(\"\")"
   ]
  },
  {
   "cell_type": "code",
   "execution_count": 1,
   "metadata": {},
   "outputs": [
    {
     "name": "stdout",
     "output_type": "stream",
     "text": [
      "please\n"
     ]
    }
   ],
   "source": [
    "def test_tweet_model():\n",
    "    pass"
   ]
  }
 ],
 "metadata": {
  "kernelspec": {
   "display_name": "venv",
   "language": "python",
   "name": "python3"
  },
  "language_info": {
   "codemirror_mode": {
    "name": "ipython",
    "version": 3
   },
   "file_extension": ".py",
   "mimetype": "text/x-python",
   "name": "python",
   "nbconvert_exporter": "python",
   "pygments_lexer": "ipython3",
   "version": "3.10.1"
  },
  "orig_nbformat": 4,
  "vscode": {
   "interpreter": {
    "hash": "83887cf659fc38d41113aac5f04d1cc1a1d52606a37b6827b963e0b6a56a971c"
   }
  }
 },
 "nbformat": 4,
 "nbformat_minor": 2
}
